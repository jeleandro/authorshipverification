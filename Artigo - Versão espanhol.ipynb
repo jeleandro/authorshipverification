{
 "cells": [
  {
   "cell_type": "markdown",
   "metadata": {},
   "source": [
    "# Benchmark Pan 2014 para esse problema\n",
    "\n",
    "resultados com micro-avg < 0.30  foram removidos\n",
    "\n",
    "|Team                  |Dutch    |English    |Greek     |Spanish     |Micro-avg|Macro-avg|\n",
    "|----------------------|--------:|----------:|---------:|-----------:|--------:|--------:|\n",
    "|Bagnall               |0.451    |**0.614**  |**0.750** |**0.721**   |0.608    |0.628    |\n",
    "|Bartoli et al.        |0.518    |0.323      |0.458     |0.773       |0.417    |0.506    |\n",
    "|Castro-Castro et al.  |0.247    |**0.520**  |0.391     |0.329       |0.427    |0.365    |\n",
    "|Gómez-Adorno et al.   |0.390    |0.281      |0.348     |0.281       |0.308    |0.323    |\n",
    "|Gutierrez et al.      |0.329    |0.513      |0.581     |0.509       |0.479    |0.478    |\n",
    "|Halvani               |0.455    |0.458      |0.493     |0.441       |0.445    |0.462    |\n",
    "|Hürlimann et al.      |0.616    |0.412      |0.599     |0.539       |0.487    |0.538    |\n",
    "|Kocher & Savoy        |0.218    |0.508      |0.631     |0.366       |0.435    |0.416    |\n",
    "|Maitra et al.         |0.518    |0.347      |0.357     |0.352       |0.378    |0.391    |\n",
    "|Moreau et al.         |**0.635**|0.453      |**0.693** |0.661       |0.534    |0.606    |\n",
    "|Pacheco et al.        |0.624    |0.438      |0.517     |0.663       |0.480    |0.558    |\n",
    "|PAN15-ENSEMBLE        |0.426    |0.468      |0.537     |0.715       |0.475    |0.532    |\n",
    "|PAN14-BASELINE-1      |0.255    |0.249      |0.198     |0.443       |0.269    |0.280    |\n",
    "|PAN14-BASELINE-2      |0.191    |0.409      |0.412     |0.683       |0.406    |0.405    |\n",
    "|PAN13-BASELINE        |0.242    |0.404      |0.384     |0.367       |0.358    |0.347    |"
   ]
  },
  {
   "cell_type": "markdown",
   "metadata": {},
   "source": [
    "## Bibliotecas"
   ]
  },
  {
   "cell_type": "code",
   "execution_count": 1,
   "metadata": {
    "collapsed": true
   },
   "outputs": [],
   "source": [
    "%matplotlib inline\n",
    "#bibliotecas padrões do python\n",
    "import os;\n",
    "import codecs;\n",
    "import re;\n",
    "import math;\n",
    "import pickle;\n",
    "from __future__ import print_function;\n",
    "\n",
    "#bibliotecas científicas\n",
    "import matplotlib.pyplot as plt;\n",
    "import numpy as np;\n",
    "import pandas as pd;\n",
    "import random;\n",
    "\n",
    "\n",
    "#bibliotecas para machine learning\n",
    "from sklearn.pipeline import Pipeline;\n",
    "from sklearn.feature_extraction.text import TfidfVectorizer, CountVectorizer;\n",
    "\n",
    "from sklearn.metrics.pairwise  import cosine_similarity, paired_distances;\n",
    "from sklearn.preprocessing     import RobustScaler, MaxAbsScaler, MinMaxScaler, normalize;\n",
    "from sklearn.decomposition     import PCA;\n",
    "from sklearn.feature_selection import SelectPercentile,SelectFpr, f_classif, chi2;\n",
    "from sklearn.model_selection   import StratifiedKFold,  GridSearchCV;\n",
    "from sklearn.pipeline          import Pipeline;\n",
    "from sklearn.metrics           import f1_score, pairwise_distances, precision_recall_fscore_support, roc_auc_score;\n",
    "\n",
    "from sklearn.linear_model      import LogisticRegression;\n",
    "from sklearn.metrics           import classification_report, roc_curve;\n",
    "\n",
    "\n",
    "import seaborn as sns;\n",
    "\n",
    "#import statsmodels.discrete.discrete_model as sm;\n",
    "\n",
    "#bibliotecas customizadas.\n",
    "from toolboxAnalytics import  rocKS, rocCurve, ksCurve;\n",
    "from IPython.core.display import display, HTML, Markdown;\n",
    "\n",
    "np.set_printoptions(precision=3);"
   ]
  },
  {
   "cell_type": "markdown",
   "metadata": {},
   "source": [
    "## Leitura dos datasets por tipo"
   ]
  },
  {
   "cell_type": "code",
   "execution_count": null,
   "metadata": {
    "collapsed": true
   },
   "outputs": [],
   "source": [
    "def readFiles(path, problemID):\n",
    "    #lendo os textos do autor conhecido\n",
    "    known = \"\";\n",
    "    for i in xrange(5):\n",
    "        fname = os.path.join(path,\"known0\"+str(i)+\".txt\");\n",
    "        if os.path.exists(fname):\n",
    "            with codecs.open(fname) as f:\n",
    "                known += f.read();\n",
    "                \n",
    "    #lendo o texto desconhecido\n",
    "    with codecs.open(os.path.join(path,\"unknown.txt\")) as f:\n",
    "        unknown = f.read();\n",
    "        \n",
    "    return (problemID, known, unknown);\n",
    "\n",
    "#reading all folders /instances of the problem\n",
    "\n",
    "#método para ler uma instancia e transformar em dataframe\n",
    "def readInstanceAsDataFrame(task, corpus):\n",
    "    print (\"reading the task %s - %s \" % (task, corpus));\n",
    "    \n",
    "    #cada task contem uma pasta para cada instancia de problema. \n",
    "    #ler todas as pastas e transformar uma tupla /dataframe\n",
    "    path = os.path.join(r'.\\trainingData', 'pan14-author-verification-'+corpus+'-'+task+'-2014-04-22')\n",
    "    problems = [readFiles(os.path.join(path,problemID),problemID)\n",
    "                    for problemID in os.listdir(path)\n",
    "                            if os.path.isdir(os.path.join(path,problemID))\n",
    "               ];\n",
    "    problemID, known, unknown = zip(*problems);\n",
    "    dfData = pd.DataFrame({'problemID':problemID,'known':known, 'unknown':unknown});\n",
    "    \n",
    "    #lendo o arquivo texto com o ground truth\n",
    "    dfProblem = pd.read_table(\n",
    "                    os.path.join(path,\"truth.txt\"),\n",
    "                    sep=' ',\n",
    "                    header=None,\n",
    "                    names=['problemID','truth']\n",
    "                );\n",
    "    \n",
    "    \n",
    "    #criando um dataset unico;\n",
    "    dataset = pd.merge(dfData, dfProblem, on='problemID');\n",
    "    dataset['genre'] = task.split('-')[1];\n",
    "    dataset['task'    ] = task;\n",
    "    dataset['language'] = task.split(\"-\")[0];\n",
    "    dataset['corpus'  ] = corpus;\n",
    "    return dataset[['corpus','problemID','language','genre','task', 'known','unknown','truth']];"
   ]
  },
  {
   "cell_type": "code",
   "execution_count": null,
   "metadata": {
    "collapsed": true
   },
   "outputs": [],
   "source": [
    "tasks = ['dutch-essays', 'dutch-reviews','english-essays','english-novels', 'greek-articles', 'spanish-articles'];\n",
    "corpus = ['training-corpus','test-corpus1','test-corpus2']\n",
    "dataset = [\n",
    "        readInstanceAsDataFrame(t, c)\n",
    "            for t in tasks\n",
    "                for c in corpus\n",
    "        ]\n",
    "dataset = pd.concat(dataset);\n",
    "\n",
    "dataset.head()"
   ]
  },
  {
   "cell_type": "code",
   "execution_count": null,
   "metadata": {
    "collapsed": true
   },
   "outputs": [],
   "source": [
    "display(HTML(\"<span style='color:red'> Salvando banco de dados consolidado </span>\"));\n",
    "with codecs.open(\"PAN2014consolidado.json\",'w') as f:\n",
    "    f.write(dataset.reset_index().to_json());"
   ]
  },
  {
   "cell_type": "markdown",
   "metadata": {},
   "source": [
    "# Partindo dos dados consolidados previamente"
   ]
  },
  {
   "cell_type": "code",
   "execution_count": 2,
   "metadata": {},
   "outputs": [
    {
     "data": {
      "text/html": [
       "<span style='color:red'> Lendo banco de dados consolidado </span>"
      ],
      "text/plain": [
       "<IPython.core.display.HTML object>"
      ]
     },
     "metadata": {},
     "output_type": "display_data"
    }
   ],
   "source": [
    "display(HTML(\"<span style='color:red'> Lendo banco de dados consolidado </span>\"));\n",
    "with codecs.open(\"PAN2014consolidado.json\",'r') as f:\n",
    "    dataset = pd.read_json(f.read())"
   ]
  },
  {
   "cell_type": "markdown",
   "metadata": {},
   "source": [
    "### Filtrando apenas espanhol e inglês e base de treinamento"
   ]
  },
  {
   "cell_type": "code",
   "execution_count": 3,
   "metadata": {
    "collapsed": true
   },
   "outputs": [],
   "source": [
    "dataset = dataset[((dataset.language != 'dutch') & (dataset.language != 'greek') & (dataset.corpus == 'training-corpus'))];\n",
    "dataset.drop('corpus',axis=1, inplace=True);"
   ]
  },
  {
   "cell_type": "code",
   "execution_count": 4,
   "metadata": {},
   "outputs": [
    {
     "data": {
      "text/html": [
       "<div>\n",
       "<style>\n",
       "    .dataframe thead tr:only-child th {\n",
       "        text-align: right;\n",
       "    }\n",
       "\n",
       "    .dataframe thead th {\n",
       "        text-align: left;\n",
       "    }\n",
       "\n",
       "    .dataframe tbody tr th {\n",
       "        vertical-align: top;\n",
       "    }\n",
       "</style>\n",
       "<table border=\"1\" class=\"dataframe\">\n",
       "  <thead>\n",
       "    <tr style=\"text-align: right;\">\n",
       "      <th></th>\n",
       "      <th>genre</th>\n",
       "      <th>index</th>\n",
       "      <th>known</th>\n",
       "      <th>language</th>\n",
       "      <th>problemID</th>\n",
       "      <th>task</th>\n",
       "      <th>truth</th>\n",
       "      <th>unknown</th>\n",
       "    </tr>\n",
       "  </thead>\n",
       "  <tbody>\n",
       "    <tr>\n",
       "      <th>1000</th>\n",
       "      <td>novels</td>\n",
       "      <td>10</td>\n",
       "      <td>IV. A Mutation and a Madness\\n\\n1.\\n\\nIn the w...</td>\n",
       "      <td>english</td>\n",
       "      <td>EN011</td>\n",
       "      <td>english-novels</td>\n",
       "      <td>Y</td>\n",
       "      <td>III.\\n\\nMeanwhile Old Whateley continued to bu...</td>\n",
       "    </tr>\n",
       "    <tr>\n",
       "      <th>1001</th>\n",
       "      <td>novels</td>\n",
       "      <td>11</td>\n",
       "      <td>﻿Spoonbill Village, Northernmost Quang Binh Pr...</td>\n",
       "      <td>english</td>\n",
       "      <td>EN012</td>\n",
       "      <td>english-novels</td>\n",
       "      <td>Y</td>\n",
       "      <td>﻿May 19th, 1929,\\nMiskatonic University, Arkha...</td>\n",
       "    </tr>\n",
       "    <tr>\n",
       "      <th>1002</th>\n",
       "      <td>novels</td>\n",
       "      <td>12</td>\n",
       "      <td>III. A Search and an Evocation\\n\\n1.\\n\\nCharle...</td>\n",
       "      <td>english</td>\n",
       "      <td>EN013</td>\n",
       "      <td>english-novels</td>\n",
       "      <td>Y</td>\n",
       "      <td>“Gorgons, and Hydras, and Chimaeras—dire stori...</td>\n",
       "    </tr>\n",
       "    <tr>\n",
       "      <th>1003</th>\n",
       "      <td>novels</td>\n",
       "      <td>13</td>\n",
       "      <td>﻿Day 1-I never would imagine such thing would ...</td>\n",
       "      <td>english</td>\n",
       "      <td>EN014</td>\n",
       "      <td>english-novels</td>\n",
       "      <td>N</td>\n",
       "      <td>V.\\n\\nThe following winter brought an event no...</td>\n",
       "    </tr>\n",
       "    <tr>\n",
       "      <th>1004</th>\n",
       "      <td>novels</td>\n",
       "      <td>14</td>\n",
       "      <td>\"The essential Saltes of Animals may be so pre...</td>\n",
       "      <td>english</td>\n",
       "      <td>EN015</td>\n",
       "      <td>english-novels</td>\n",
       "      <td>N</td>\n",
       "      <td>﻿Ordinarily, one wouldn't think of the Dreamer...</td>\n",
       "    </tr>\n",
       "  </tbody>\n",
       "</table>\n",
       "</div>"
      ],
      "text/plain": [
       "       genre  index                                              known  \\\n",
       "1000  novels     10  IV. A Mutation and a Madness\\n\\n1.\\n\\nIn the w...   \n",
       "1001  novels     11  ﻿Spoonbill Village, Northernmost Quang Binh Pr...   \n",
       "1002  novels     12  III. A Search and an Evocation\\n\\n1.\\n\\nCharle...   \n",
       "1003  novels     13  ﻿Day 1-I never would imagine such thing would ...   \n",
       "1004  novels     14  \"The essential Saltes of Animals may be so pre...   \n",
       "\n",
       "     language problemID            task truth  \\\n",
       "1000  english     EN011  english-novels     Y   \n",
       "1001  english     EN012  english-novels     Y   \n",
       "1002  english     EN013  english-novels     Y   \n",
       "1003  english     EN014  english-novels     N   \n",
       "1004  english     EN015  english-novels     N   \n",
       "\n",
       "                                                unknown  \n",
       "1000  III.\\n\\nMeanwhile Old Whateley continued to bu...  \n",
       "1001  ﻿May 19th, 1929,\\nMiskatonic University, Arkha...  \n",
       "1002  “Gorgons, and Hydras, and Chimaeras—dire stori...  \n",
       "1003  V.\\n\\nThe following winter brought an event no...  \n",
       "1004  ﻿Ordinarily, one wouldn't think of the Dreamer...  "
      ]
     },
     "execution_count": 4,
     "metadata": {},
     "output_type": "execute_result"
    }
   ],
   "source": [
    "dataset.head()"
   ]
  },
  {
   "cell_type": "code",
   "execution_count": 5,
   "metadata": {},
   "outputs": [
    {
     "data": {
      "image/png": "[encoded data removed]",
      "text/plain": [
       "<matplotlib.figure.Figure at 0x491e208>"
      ]
     },
     "metadata": {},
     "output_type": "display_data"
    }
   ],
   "source": [
    "dataset\\\n",
    ".pivot_table(values='problemID',index=['genre','language'],columns='truth',aggfunc='count') \\\n",
    ".plot.barh(stacked=True);"
   ]
  },
  {
   "cell_type": "markdown",
   "metadata": {},
   "source": [
    "# Funções utilitárias"
   ]
  },
  {
   "cell_type": "code",
   "execution_count": 6,
   "metadata": {
    "collapsed": true
   },
   "outputs": [],
   "source": [
    "def histograma(title, var, truth):\n",
    "    \"\"\"\n",
    "    Essa função desenha 2 histogramas sobrepostos. 1 com a classe positiva e outro a classe negativa.\n",
    "    Isso permite verificar visualmente o poder de separação da variável com relação as classes.\n",
    "    \n",
    "    Ps.:  O poder total de separação deve ser verificado pela função\n",
    "    ksCurve que plota a curva acumulada e o poder de separação todal.\n",
    "    \"\"\"\n",
    "    plt.title(title)\n",
    "    plt.hist(var[truth == 'N'], label=u\"outro autor\", bins=30, color='#CC2222', alpha=0.5);\n",
    "    plt.hist(var[truth == 'Y'], label=u\"mesmo autor\", bins=30, alpha=0.5);\n",
    "    plt.xlabel(u\"Distância\");\n",
    "    plt.legend(loc='upper right')"
   ]
  },
  {
   "cell_type": "code",
   "execution_count": 7,
   "metadata": {
    "collapsed": true
   },
   "outputs": [],
   "source": [
    "def histograma2(title, var, truth):\n",
    "    \"\"\"\n",
    "    Essa função desenha 2 histogramas sobrepostos. 1 com a classe positiva e outro a classe negativa.\n",
    "    Isso permite verificar visualmente o poder de separação da variável com relação as classes.\n",
    "    \n",
    "    Ps.:  O poder total de separação deve ser verificado pela função\n",
    "    ksCurve que plota a curva acumulada e o poder de separação todal.\n",
    "    \"\"\"\n",
    "    plt.title(title)\n",
    "    plt.hist(var[truth], label=u\"FALSE CLASS\", bins=30, color='#CC2222', alpha=0.5);\n",
    "    plt.hist(var[truth], label=u\"TRUE CLASS\", bins=30, alpha=0.5);\n",
    "    plt.xlabel(u\"Distância\");\n",
    "    plt.legend(loc='upper right')"
   ]
  },
  {
   "cell_type": "code",
   "execution_count": 8,
   "metadata": {
    "collapsed": true
   },
   "outputs": [],
   "source": [
    "def pcaCutOff(pca, cutVariance =0.95, plot=False):\n",
    "    \"\"\"Esse método calcula quantas componentes são necessário para explicar  o percentual de variancia desejada.\"\"\"\n",
    "    variance = pca.explained_variance_ratio_.cumsum();\n",
    "    cutoff = len(variance[variance< cutVariance]);\n",
    "    \n",
    "    if plot:\n",
    "        plt.figure(1, figsize=(10,5))\n",
    "        plt.clf()\n",
    "        plt.axes([.2, .2, .7, .7])\n",
    "        plt.plot(variance, linewidth=2)\n",
    "        plt.axvline(x=cutoff)\n",
    "        plt.axis('tight')\n",
    "        plt.xlabel('n_components')\n",
    "        plt.ylabel('explained_variance_')\n",
    "    return cutoff;"
   ]
  },
  {
   "cell_type": "code",
   "execution_count": 9,
   "metadata": {
    "collapsed": true
   },
   "outputs": [],
   "source": [
    "def cosine(matrixA, matrixB):\n",
    "    \"\"\"Essa função calcula a similaridade de cossenos entre duas matrizes e retorna um vetor que representa\n",
    "    cosine[i] =  cosine(matrixA[i,:], matrixB[i,:])\n",
    "    como preprocessamento, a matrizes passam por um normalização L2 para evitar que a norma influencie\n",
    "    \"\"\"\n",
    "    return np.array(np.diag(\n",
    "        cosine_similarity(\n",
    "            normalize(matrixA, norm='l2'),\n",
    "            normalize(matrixB, norm='l2')\n",
    "        )\n",
    "    )).flatten();"
   ]
  },
  {
   "cell_type": "code",
   "execution_count": 10,
   "metadata": {
    "collapsed": true
   },
   "outputs": [],
   "source": [
    "def pcaSimilarity(pca, matrixA, matrixB):\n",
    "    \"\"\"calcula a similaridade considerando apenas algumas componentes da PCA\"\"\"\n",
    "    pcaknownCount   = pca.transform(matrixA);\n",
    "    pcaunknownCount = pca.transform(matrixB);    \n",
    "    cpca = cosine(pcaknownCount,pcaunknownCount);\n",
    "    return cpca;"
   ]
  },
  {
   "cell_type": "code",
   "execution_count": 11,
   "metadata": {
    "collapsed": true
   },
   "outputs": [],
   "source": [
    "def CNG_Keselj(matrixA, matrixB):\n",
    "    \"\"\"\n",
    "    A profile-based method of particular interest, the Common n-Grams (CNG) approach, was described by Keselj, et al. (2003).\n",
    "    -1 vetor A tem valores maiores\n",
    "    0  A e B são iguais\n",
    "    1  vetor B  tem valores maiores\n",
    "    \"\"\"\n",
    "    matrixA = normalize(matrixA, norm='l1')\n",
    "    matrixB = normalize(matrixB, norm='l1')\n",
    "    dif   = (matrixA) - (matrixB);\n",
    "    summ   = (matrixA) + (matrixB);\n",
    "    \n",
    "    s = (2 * dif /summ) **2;\n",
    "    s = np.array(np.nansum(s, axis=1)).flatten();    \n",
    "    return s;"
   ]
  },
  {
   "cell_type": "code",
   "execution_count": 12,
   "metadata": {
    "collapsed": true
   },
   "outputs": [],
   "source": [
    "def CNG_Statamatos(matrixA, matrixB):\n",
    "    matrixA = normalize(matrixA, norm='l1')\n",
    "    matrixB = normalize(matrixB, norm='l1')\n",
    "    \n",
    "    #difference to local\n",
    "    s1 = (2 * (matrixA - matrixB) /(matrixA + matrixB)) **2;\n",
    "    \n",
    "    \n",
    "    #global difference\n",
    "    matrixCorpus = np.vstack((matrixA,matrixB));\n",
    "    matrixCorpus =  normalize(np.sum(matrixCorpus,axis=0, keepdims=True), norm='l1');   \n",
    "    s2 = (2 * (matrixA - matrixCorpus) /(matrixA + matrixCorpus)) **2;\n",
    "    \n",
    "    s = s1 * s2;    \n",
    "    s = np.array(np.nansum(s, axis=1)).flatten();    \n",
    "    return s;"
   ]
  },
  {
   "cell_type": "code",
   "execution_count": 13,
   "metadata": {
    "collapsed": true
   },
   "outputs": [],
   "source": [
    "def cScore( Ypred, Y):\n",
    "    \"\"\"função definida segundo a competição pan.  A ideia é penalisar o classificador\n",
    "    que retorna probabilidade de 50%, ou seja, não ser melhor que um chute aleatório \"\"\"\n",
    "    Ypred = np.round(Ypred,decimals=2);\n",
    "    n  = len(Y)*1.0;\n",
    "    nunansweard  = np.sum(Ypred == 0.5);\n",
    "    \n",
    "    ncorrect = np.sum( (Ypred>0.5) & (Y == 1) ) + np.sum( (Ypred<0.5) & (Y == 0) )    \n",
    "    #ncorrect = np.sum(((Ypred>0.5) == Y)) - nunansweard;    \n",
    "    return (1.0/n)*(ncorrect+(nunansweard*ncorrect/n));"
   ]
  },
  {
   "cell_type": "code",
   "execution_count": 14,
   "metadata": {
    "collapsed": true
   },
   "outputs": [],
   "source": [
    "def dist(ma, mb):\n",
    "    return normalize(np.array(np.abs(ma - mb)),norm='l1');\n",
    "    #return np.array(np.abs(ma - mb));\n",
    "    \n",
    "def difchi2(ma, mb):\n",
    "    return np.log(1+(np.array(ma) - np.array(mb))**2 /(1+ np.array(ma)));\n",
    "\n",
    "\n",
    "def kpi(pred, y):\n",
    "    ks      = ksCurve(pred,y);\n",
    "    roc     = rocCurve(pred,y);\n",
    "    c_score = cScore  (pred,y);\n",
    "    final   = roc * c_score;\n",
    "    return ks, roc, c_score, final;\n",
    "\n",
    "\n",
    "def kpi2(pred, y):\n",
    "    roc     = rocCurve(pred,y);\n",
    "    c_score = cScore  (pred,y);\n",
    "    metrics =  {\n",
    "        'ks':ksCurve(pred,y),\n",
    "        'auc':roc,\n",
    "        'C_score': c_score,\n",
    "        'f1': f1_score(y, pred),\n",
    "        'PAN' : roc * c_score\n",
    "        \n",
    "    };\n",
    "    return metrics;"
   ]
  },
  {
   "cell_type": "markdown",
   "metadata": {},
   "source": [
    "## Filtrando as instancias de problemas que serão tratadas"
   ]
  },
  {
   "cell_type": "markdown",
   "metadata": {},
   "source": [
    "Foi utilizado apenas o corpus de trainamento porque os corpus de teste estariam disponíveis apenas para o avaliadores."
   ]
  },
  {
   "cell_type": "code",
   "execution_count": 15,
   "metadata": {},
   "outputs": [
    {
     "data": {
      "text/html": [
       "<div>\n",
       "<style>\n",
       "    .dataframe thead tr:only-child th {\n",
       "        text-align: right;\n",
       "    }\n",
       "\n",
       "    .dataframe thead th {\n",
       "        text-align: left;\n",
       "    }\n",
       "\n",
       "    .dataframe tbody tr th {\n",
       "        vertical-align: top;\n",
       "    }\n",
       "</style>\n",
       "<table border=\"1\" class=\"dataframe\">\n",
       "  <thead>\n",
       "    <tr style=\"text-align: right;\">\n",
       "      <th></th>\n",
       "      <th>problemID</th>\n",
       "      <th>language</th>\n",
       "      <th>genre</th>\n",
       "      <th>known</th>\n",
       "      <th>unknown</th>\n",
       "      <th>truth</th>\n",
       "    </tr>\n",
       "  </thead>\n",
       "  <tbody>\n",
       "    <tr>\n",
       "      <th>1640</th>\n",
       "      <td>SP001</td>\n",
       "      <td>spanish</td>\n",
       "      <td>articles</td>\n",
       "      <td>﻿Antoni Puigverd escribía el lunes en La Vangu...</td>\n",
       "      <td>﻿Todo el mundo se cree en el derecho a critica...</td>\n",
       "      <td>N</td>\n",
       "    </tr>\n",
       "    <tr>\n",
       "      <th>1641</th>\n",
       "      <td>SP002</td>\n",
       "      <td>spanish</td>\n",
       "      <td>articles</td>\n",
       "      <td>﻿Me formulo desde hace unos días la pregunta q...</td>\n",
       "      <td>﻿El autor defiende la necesidad de modificar l...</td>\n",
       "      <td>Y</td>\n",
       "    </tr>\n",
       "    <tr>\n",
       "      <th>1642</th>\n",
       "      <td>SP003</td>\n",
       "      <td>spanish</td>\n",
       "      <td>articles</td>\n",
       "      <td>﻿Andamos estos días los constitucionalistas mu...</td>\n",
       "      <td>﻿El próximo día 6 se cumplirán 35 años del día...</td>\n",
       "      <td>N</td>\n",
       "    </tr>\n",
       "    <tr>\n",
       "      <th>1643</th>\n",
       "      <td>SP004</td>\n",
       "      <td>spanish</td>\n",
       "      <td>articles</td>\n",
       "      <td>﻿No me gusta Amaiur, una coalición controlada ...</td>\n",
       "      <td>﻿La comparecencia del presidente del Gobierno ...</td>\n",
       "      <td>Y</td>\n",
       "    </tr>\n",
       "    <tr>\n",
       "      <th>1644</th>\n",
       "      <td>SP005</td>\n",
       "      <td>spanish</td>\n",
       "      <td>articles</td>\n",
       "      <td>﻿En este periodo de replanteamiento, cuando ha...</td>\n",
       "      <td>﻿En la cresta de la ola de popularidad, el arq...</td>\n",
       "      <td>N</td>\n",
       "    </tr>\n",
       "  </tbody>\n",
       "</table>\n",
       "</div>"
      ],
      "text/plain": [
       "     problemID language     genre  \\\n",
       "1640     SP001  spanish  articles   \n",
       "1641     SP002  spanish  articles   \n",
       "1642     SP003  spanish  articles   \n",
       "1643     SP004  spanish  articles   \n",
       "1644     SP005  spanish  articles   \n",
       "\n",
       "                                                  known  \\\n",
       "1640  ﻿Antoni Puigverd escribía el lunes en La Vangu...   \n",
       "1641  ﻿Me formulo desde hace unos días la pregunta q...   \n",
       "1642  ﻿Andamos estos días los constitucionalistas mu...   \n",
       "1643  ﻿No me gusta Amaiur, una coalición controlada ...   \n",
       "1644  ﻿En este periodo de replanteamiento, cuando ha...   \n",
       "\n",
       "                                                unknown truth  \n",
       "1640  ﻿Todo el mundo se cree en el derecho a critica...     N  \n",
       "1641  ﻿El autor defiende la necesidad de modificar l...     Y  \n",
       "1642  ﻿El próximo día 6 se cumplirán 35 años del día...     N  \n",
       "1643  ﻿La comparecencia del presidente del Gobierno ...     Y  \n",
       "1644  ﻿En la cresta de la ola de popularidad, el arq...     N  "
      ]
     },
     "execution_count": 15,
     "metadata": {},
     "output_type": "execute_result"
    }
   ],
   "source": [
    "datasetEstudo = dataset[ dataset['language'] == 'spanish'  ];\n",
    "datasetEstudo = datasetEstudo[['problemID','language','genre','known','unknown','truth']];\n",
    "datasetEstudo.head()"
   ]
  },
  {
   "cell_type": "markdown",
   "metadata": {},
   "source": [
    "# Análise exploratória da base"
   ]
  },
  {
   "cell_type": "code",
   "execution_count": 16,
   "metadata": {},
   "outputs": [
    {
     "data": {
      "image/png": "[encoded data removed]",
      "text/plain": [
       "<matplotlib.figure.Figure at 0xc39aac8>"
      ]
     },
     "metadata": {},
     "output_type": "display_data"
    }
   ],
   "source": [
    "datasetEstudo.pivot_table(\n",
    "    values='problemID',\n",
    "    index=['genre'],\n",
    "    columns='truth',aggfunc='count').plot.bar(stacked=True);"
   ]
  },
  {
   "cell_type": "markdown",
   "metadata": {},
   "source": [
    "# analisando char n-grams  mais frequentes\n",
    "Segundo a literatura (survery do stamatatos) o termos mais frequentes permitem diferenciar o autor sem ser impactados pelo contexto.\n",
    "Estudando apontam também que entre 2 e 5 char n-grams apresentaram os melhores resultados.\n",
    "Utilizando o TfidfVectorizer  sem a componente IDF porque ela faz pouco efeito e para utilizar a versão com 1+log(TF)"
   ]
  },
  {
   "cell_type": "code",
   "execution_count": 17,
   "metadata": {
    "collapsed": true
   },
   "outputs": [],
   "source": [
    "counter = CountVectorizer(\n",
    "        analyzer=\"char\",\n",
    "        min_df=0.90,\n",
    "        max_df=1.0,\n",
    "        ngram_range=(2,5),\n",
    "        lowercase=False,\n",
    "        dtype=np.float32\n",
    "    );"
   ]
  },
  {
   "cell_type": "code",
   "execution_count": 18,
   "metadata": {
    "collapsed": true
   },
   "outputs": [],
   "source": [
    "counter.fit(datasetEstudo.known.values);\n",
    "ma = counter.transform(datasetEstudo.known.values).todense();\n",
    "mb = counter.transform(datasetEstudo.unknown.values).todense();"
   ]
  },
  {
   "cell_type": "code",
   "execution_count": 19,
   "metadata": {
    "collapsed": true
   },
   "outputs": [],
   "source": [
    "def normalizer(m):\n",
    "    #TF\n",
    "    m = normalize(m,norm='l1');\n",
    "    return m;    "
   ]
  },
  {
   "cell_type": "code",
   "execution_count": 20,
   "metadata": {
    "collapsed": true
   },
   "outputs": [],
   "source": [
    "known = normalizer(ma);\n",
    "unknown = normalizer(mb);"
   ]
  },
  {
   "cell_type": "code",
   "execution_count": 21,
   "metadata": {},
   "outputs": [
    {
     "name": "stdout",
     "output_type": "stream",
     "text": [
      "cosine\n",
      "Cosine PCA\n",
      "CNG_Keselj\n",
      "CNG_Statamatos\n",
      "correlation\n"
     ]
    },
    {
     "name": "stderr",
     "output_type": "stream",
     "text": [
      "C:\\ProgramData\\Anaconda2\\lib\\site-packages\\ipykernel_launcher.py:13: RuntimeWarning: invalid value encountered in divide\n",
      "  del sys.path[0]\n",
      "C:\\ProgramData\\Anaconda2\\lib\\site-packages\\ipykernel_launcher.py:6: RuntimeWarning: invalid value encountered in divide\n",
      "  \n"
     ]
    }
   ],
   "source": [
    "print (\"cosine\");\n",
    "cosineAB = cosine(known,unknown);\n",
    "\n",
    "print (\"Cosine PCA\");\n",
    "pca = PCA();\n",
    "pca.fit(np.vstack((known,unknown)));\n",
    "\n",
    "variance = pca.explained_variance_ratio_.cumsum();\n",
    "cutoff = len(variance[variance<=0.95]);\n",
    "if cutoff < 1:\n",
    "    cutoff = int(known.shape[1] *0.5);\n",
    "\n",
    "pca = PCA(cutoff);\n",
    "pca.fit(np.vstack((known,unknown)));\n",
    "del variance;\n",
    "cosineABpca = pcaSimilarity(pca,known,unknown);\n",
    "\n",
    "print (\"CNG_Keselj\");\n",
    "keselj = CNG_Keselj(known,unknown);\n",
    "\n",
    "print (\"CNG_Statamatos\");\n",
    "statamatos =CNG_Statamatos(known,unknown);\n",
    "\n",
    "\n",
    "print (\"correlation\");\n",
    "correlation = np.diag(pairwise_distances(known, unknown, metric='correlation'))\n",
    "jaccard = np.diag(pairwise_distances(known > 0, unknown >0, metric='jaccard'))"
   ]
  },
  {
   "cell_type": "markdown",
   "metadata": {},
   "source": [
    "# analise descritiva das variáveis criadas"
   ]
  },
  {
   "cell_type": "code",
   "execution_count": 22,
   "metadata": {
    "scrolled": false
   },
   "outputs": [
    {
     "data": {
      "image/png": "[encoded data removed]",
      "text/plain": [
       "<matplotlib.figure.Figure at 0x2a8a36d8>"
      ]
     },
     "metadata": {},
     "output_type": "display_data"
    },
    {
     "data": {
      "image/png": "[encoded data removed]",
      "text/plain": [
       "<matplotlib.figure.Figure at 0xc39abe0>"
      ]
     },
     "metadata": {},
     "output_type": "display_data"
    },
    {
     "data": {
      "image/png": "[encoded data removed]",
      "text/plain": [
       "<matplotlib.figure.Figure at 0x2b343400>"
      ]
     },
     "metadata": {},
     "output_type": "display_data"
    },
    {
     "data": {
      "image/png": "[encoded data removed]",
      "text/plain": [
       "<matplotlib.figure.Figure at 0x1bff84a8>"
      ]
     },
     "metadata": {},
     "output_type": "display_data"
    },
    {
     "data": {
      "image/png": "[encoded data removed]",
      "text/plain": [
       "<matplotlib.figure.Figure at 0x19887d30>"
      ]
     },
     "metadata": {},
     "output_type": "display_data"
    },
    {
     "data": {
      "image/png": "[encoded data removed]",
      "text/plain": [
       "<matplotlib.figure.Figure at 0x19873eb8>"
      ]
     },
     "metadata": {},
     "output_type": "display_data"
    }
   ],
   "source": [
    "pcaCutOff(pca);plt.show();\n",
    "histograma('Jaccard',jaccard, datasetEstudo.truth.values); plt.show();\n",
    "histograma('correlation',correlation, datasetEstudo.truth.values); plt.show();\n",
    "histograma('Cossenos',cosineAB, datasetEstudo.truth.values); plt.show();\n",
    "histograma('Cossenos-PCA',cosineABpca, datasetEstudo.truth.values) ;plt.show();\n",
    "histograma('keselj',keselj, datasetEstudo.truth.values) ;plt.show();\n",
    "histograma('statamatos',statamatos, datasetEstudo.truth.values) ;plt.show();"
   ]
  },
  {
   "cell_type": "code",
   "execution_count": 23,
   "metadata": {
    "scrolled": false
   },
   "outputs": [
    {
     "data": {
      "image/png": "[encoded data removed]",
      "text/plain": [
       "<matplotlib.figure.Figure at 0xdb260f0>"
      ]
     },
     "metadata": {},
     "output_type": "display_data"
    },
    {
     "data": {
      "image/png": "[encoded data removed]",
      "text/plain": [
       "<matplotlib.figure.Figure at 0xdb33d68>"
      ]
     },
     "metadata": {},
     "output_type": "display_data"
    },
    {
     "data": {
      "image/png": "[encoded data removed]",
      "text/plain": [
       "<matplotlib.figure.Figure at 0x2b8b8f98>"
      ]
     },
     "metadata": {},
     "output_type": "display_data"
    },
    {
     "data": {
      "image/png": "[encoded data removed]",
      "text/plain": [
       "<matplotlib.figure.Figure at 0x1d76b1d0>"
      ]
     },
     "metadata": {},
     "output_type": "display_data"
    },
    {
     "data": {
      "image/png": "[encoded data removed]",
      "text/plain": [
       "<matplotlib.figure.Figure at 0x1be64dd8>"
      ]
     },
     "metadata": {},
     "output_type": "display_data"
    },
    {
     "data": {
      "image/png": "[encoded data removed]",
      "text/plain": [
       "<matplotlib.figure.Figure at 0xdad7828>"
      ]
     },
     "metadata": {},
     "output_type": "display_data"
    }
   ],
   "source": [
    "pcaCutOff(pca);plt.show();\n",
    "plt.title(\"KS var=Jaccard\")   ;ksCurve(jaccard, datasetEstudo.truth.values==\"Y\", plot=True); plt.show();\n",
    "plt.title(\"KS var=Correlation\")   ;ksCurve(correlation, datasetEstudo.truth.values==\"Y\", plot=True); plt.show();\n",
    "plt.title(\"KS var=cosineAB\")   ;ksCurve(cosineAB, datasetEstudo.truth.values==\"Y\", plot=True); plt.show();\n",
    "plt.title(\"KS var=cosineABpca\");ksCurve(cosineABpca, datasetEstudo.truth.values==\"Y\", plot=True) ;plt.show();\n",
    "plt.title(\"KS var=keselj\")         ;ksCurve(keselj, datasetEstudo.truth.values==\"Y\", plot=True) ;plt.show();\n",
    "plt.title(\"KS var=statamatos\");ksCurve(np.abs(statamatos), datasetEstudo.truth.values==\"Y\", plot=True) ;plt.show();"
   ]
  },
  {
   "cell_type": "code",
   "execution_count": 24,
   "metadata": {},
   "outputs": [
    {
     "data": {
      "text/html": [
       "<div>\n",
       "<style>\n",
       "    .dataframe thead tr:only-child th {\n",
       "        text-align: right;\n",
       "    }\n",
       "\n",
       "    .dataframe thead th {\n",
       "        text-align: left;\n",
       "    }\n",
       "\n",
       "    .dataframe tbody tr th {\n",
       "        vertical-align: top;\n",
       "    }\n",
       "</style>\n",
       "<table border=\"1\" class=\"dataframe\">\n",
       "  <thead>\n",
       "    <tr style=\"text-align: right;\">\n",
       "      <th></th>\n",
       "      <th>Dissimilaridade</th>\n",
       "      <th>Kolmogorov-Smirnov</th>\n",
       "      <th>fClassifDF</th>\n",
       "    </tr>\n",
       "  </thead>\n",
       "  <tbody>\n",
       "    <tr>\n",
       "      <th>0</th>\n",
       "      <td>Jaccard</td>\n",
       "      <td>0.16</td>\n",
       "      <td>1.4300820e-01</td>\n",
       "    </tr>\n",
       "    <tr>\n",
       "      <th>1</th>\n",
       "      <td>CNG-keselj</td>\n",
       "      <td>0.24</td>\n",
       "      <td>9.5953578e-03</td>\n",
       "    </tr>\n",
       "    <tr>\n",
       "      <th>2</th>\n",
       "      <td>CNG-Statamatos</td>\n",
       "      <td>0.20</td>\n",
       "      <td>3.0430950e-02</td>\n",
       "    </tr>\n",
       "    <tr>\n",
       "      <th>3</th>\n",
       "      <td>Correlation</td>\n",
       "      <td>0.58</td>\n",
       "      <td>1.4122570e-10</td>\n",
       "    </tr>\n",
       "    <tr>\n",
       "      <th>4</th>\n",
       "      <td>Cosseno</td>\n",
       "      <td>0.60</td>\n",
       "      <td>1.1714688e-10</td>\n",
       "    </tr>\n",
       "    <tr>\n",
       "      <th>5</th>\n",
       "      <td>Cosseno-PCA</td>\n",
       "      <td>0.68</td>\n",
       "      <td>5.7747451e-14</td>\n",
       "    </tr>\n",
       "  </tbody>\n",
       "</table>\n",
       "</div>"
      ],
      "text/plain": [
       "  Dissimilaridade  Kolmogorov-Smirnov     fClassifDF\n",
       "0         Jaccard                0.16  1.4300820e-01\n",
       "1      CNG-keselj                0.24  9.5953578e-03\n",
       "2  CNG-Statamatos                0.20  3.0430950e-02\n",
       "3     Correlation                0.58  1.4122570e-10\n",
       "4         Cosseno                0.60  1.1714688e-10\n",
       "5     Cosseno-PCA                0.68  5.7747451e-14"
      ]
     },
     "execution_count": 24,
     "metadata": {},
     "output_type": "execute_result"
    }
   ],
   "source": [
    "Y = datasetEstudo.truth.values==\"Y\";\n",
    "KS = pd.DataFrame(\n",
    "    {'Dissimilaridade':['Jaccard','CNG-keselj','CNG-Statamatos', 'Correlation','Cosseno','Cosseno-PCA'],\n",
    "      'Kolmogorov-Smirnov': [\n",
    "          ksCurve(jaccard, Y),\n",
    "          ksCurve(keselj, Y),\n",
    "          ksCurve(statamatos, Y),\n",
    "          ksCurve(correlation, Y),\n",
    "          ksCurve(cosineAB, Y),\n",
    "          ksCurve(cosineABpca, Y),\n",
    "\n",
    "      ],\n",
    "    'fClassifDF': [\n",
    "          (f_classif(jaccard.reshape(-1, 1), Y)[1])[0],\n",
    "          (f_classif(keselj.reshape(-1, 1), Y)[1])[0],\n",
    "          (f_classif(statamatos.reshape(-1, 1), Y)[1])[0],\n",
    "          (f_classif(correlation.reshape(-1, 1), Y)[1])[0],\n",
    "          (f_classif(cosineAB.reshape(-1, 1), Y)[1])[0],\n",
    "          (f_classif(cosineABpca.reshape(-1, 1), Y)[1])[0],\n",
    "\n",
    "      ] \n",
    "    }\n",
    ");\n",
    "#KS.plot(kind='bar',x='Dissimilaridade', y='Kolmogorov-Smirnov');\n",
    "pd.set_option('precision',7)\n",
    "KS.to_clipboard(excel=True);\n",
    "KS\n"
   ]
  },
  {
   "cell_type": "code",
   "execution_count": 25,
   "metadata": {},
   "outputs": [
    {
     "data": {
      "image/png": "[encoded data removed]",
      "text/plain": [
       "<matplotlib.figure.Figure at 0x1a2a9470>"
      ]
     },
     "metadata": {},
     "output_type": "display_data"
    }
   ],
   "source": [
    "Attr = pd.DataFrame(\n",
    "    {'Jaccard':jaccard,\n",
    "     'CNG-keselj':keselj,\n",
    "     'CNG-Statamatos':statamatos,\n",
    "     'Correlation':correlation,\n",
    "     'Cosseno':cosineAB,\n",
    "     'Cosseno-PCA':cosineABpca,\n",
    "    }\n",
    ");\n",
    "Attr\n",
    "corr = Attr.corr()\n",
    "sns.heatmap(corr,annot=True, cmap=\"YlGnBu\",\n",
    "            xticklabels=corr.columns.values,\n",
    "            yticklabels=corr.columns.values);"
   ]
  },
  {
   "cell_type": "code",
   "execution_count": 26,
   "metadata": {},
   "outputs": [
    {
     "data": {
      "text/html": [
       "<div>\n",
       "<style>\n",
       "    .dataframe thead tr:only-child th {\n",
       "        text-align: right;\n",
       "    }\n",
       "\n",
       "    .dataframe thead th {\n",
       "        text-align: left;\n",
       "    }\n",
       "\n",
       "    .dataframe tbody tr th {\n",
       "        vertical-align: top;\n",
       "    }\n",
       "</style>\n",
       "<table border=\"1\" class=\"dataframe\">\n",
       "  <thead>\n",
       "    <tr style=\"text-align: right;\">\n",
       "      <th></th>\n",
       "      <th>CNG-Statamatos</th>\n",
       "      <th>CNG-keselj</th>\n",
       "      <th>Correlation</th>\n",
       "      <th>Cosseno</th>\n",
       "      <th>Cosseno-PCA</th>\n",
       "      <th>Jaccard</th>\n",
       "    </tr>\n",
       "  </thead>\n",
       "  <tbody>\n",
       "    <tr>\n",
       "      <th>CNG-Statamatos</th>\n",
       "      <td>1.0000000</td>\n",
       "      <td>0.6179333</td>\n",
       "      <td>0.4584855</td>\n",
       "      <td>-0.4654937</td>\n",
       "      <td>0.0650845</td>\n",
       "      <td>0.6187613</td>\n",
       "    </tr>\n",
       "    <tr>\n",
       "      <th>CNG-keselj</th>\n",
       "      <td>0.6179333</td>\n",
       "      <td>1.0000000</td>\n",
       "      <td>0.6151339</td>\n",
       "      <td>-0.6210460</td>\n",
       "      <td>-0.0343278</td>\n",
       "      <td>0.9866300</td>\n",
       "    </tr>\n",
       "    <tr>\n",
       "      <th>Correlation</th>\n",
       "      <td>0.4584855</td>\n",
       "      <td>0.6151339</td>\n",
       "      <td>1.0000000</td>\n",
       "      <td>-0.9997201</td>\n",
       "      <td>-0.5614720</td>\n",
       "      <td>0.5252132</td>\n",
       "    </tr>\n",
       "    <tr>\n",
       "      <th>Cosseno</th>\n",
       "      <td>-0.4654937</td>\n",
       "      <td>-0.6210460</td>\n",
       "      <td>-0.9997201</td>\n",
       "      <td>1.0000000</td>\n",
       "      <td>0.5572099</td>\n",
       "      <td>-0.5315060</td>\n",
       "    </tr>\n",
       "    <tr>\n",
       "      <th>Cosseno-PCA</th>\n",
       "      <td>0.0650845</td>\n",
       "      <td>-0.0343278</td>\n",
       "      <td>-0.5614720</td>\n",
       "      <td>0.5572099</td>\n",
       "      <td>1.0000000</td>\n",
       "      <td>0.0845873</td>\n",
       "    </tr>\n",
       "    <tr>\n",
       "      <th>Jaccard</th>\n",
       "      <td>0.6187613</td>\n",
       "      <td>0.9866300</td>\n",
       "      <td>0.5252132</td>\n",
       "      <td>-0.5315060</td>\n",
       "      <td>0.0845873</td>\n",
       "      <td>1.0000000</td>\n",
       "    </tr>\n",
       "  </tbody>\n",
       "</table>\n",
       "</div>"
      ],
      "text/plain": [
       "                CNG-Statamatos  CNG-keselj  Correlation    Cosseno  \\\n",
       "CNG-Statamatos       1.0000000   0.6179333    0.4584855 -0.4654937   \n",
       "CNG-keselj           0.6179333   1.0000000    0.6151339 -0.6210460   \n",
       "Correlation          0.4584855   0.6151339    1.0000000 -0.9997201   \n",
       "Cosseno             -0.4654937  -0.6210460   -0.9997201  1.0000000   \n",
       "Cosseno-PCA          0.0650845  -0.0343278   -0.5614720  0.5572099   \n",
       "Jaccard              0.6187613   0.9866300    0.5252132 -0.5315060   \n",
       "\n",
       "                Cosseno-PCA    Jaccard  \n",
       "CNG-Statamatos    0.0650845  0.6187613  \n",
       "CNG-keselj       -0.0343278  0.9866300  \n",
       "Correlation      -0.5614720  0.5252132  \n",
       "Cosseno           0.5572099 -0.5315060  \n",
       "Cosseno-PCA       1.0000000  0.0845873  \n",
       "Jaccard           0.0845873  1.0000000  "
      ]
     },
     "execution_count": 26,
     "metadata": {},
     "output_type": "execute_result"
    }
   ],
   "source": [
    "corr"
   ]
  },
  {
   "cell_type": "code",
   "execution_count": null,
   "metadata": {
    "collapsed": true
   },
   "outputs": [],
   "source": [
    "corr.to_clipboard(excel=True)"
   ]
  },
  {
   "cell_type": "code",
   "execution_count": null,
   "metadata": {
    "collapsed": true
   },
   "outputs": [],
   "source": [
    "del ma, mb, corr, KS, jaccard, keselj, statamatos, correlation, cosineAB, cosineABpca, known, unknown;"
   ]
  },
  {
   "cell_type": "markdown",
   "metadata": {},
   "source": [
    "# Classificador utilizando as funções de similiaridade"
   ]
  },
  {
   "cell_type": "code",
   "execution_count": 27,
   "metadata": {
    "collapsed": true,
    "scrolled": false
   },
   "outputs": [],
   "source": [
    "XK = datasetEstudo.known.values;\n",
    "XU = datasetEstudo.unknown.values;\n",
    "Y = datasetEstudo.truth.values==\"Y\";"
   ]
  },
  {
   "cell_type": "code",
   "execution_count": 28,
   "metadata": {
    "collapsed": true
   },
   "outputs": [],
   "source": [
    "kf = StratifiedKFold(n_splits=5, random_state =0);\n",
    "\n",
    "counter = CountVectorizer(\n",
    "        analyzer=\"char\",\n",
    "        min_df=0.90,\n",
    "        max_df=1.0,\n",
    "        ngram_range=(2,5),\n",
    "        lowercase=False,\n",
    "        dtype=np.float32\n",
    "    );\n",
    "\n",
    "pipeline = Pipeline(steps=[\n",
    "    ('scaler', MinMaxScaler()),\n",
    "    ('pca', PCA()),\n",
    "    ('clf', LogisticRegression(random_state = 0)) \n",
    "]);\n",
    "\n",
    "pipeline2 = Pipeline(steps=[\n",
    "    ('scaler', MinMaxScaler()),\n",
    "    ('clf', LogisticRegression(random_state = 0)) \n",
    "]);"
   ]
  },
  {
   "cell_type": "code",
   "execution_count": 29,
   "metadata": {},
   "outputs": [
    {
     "name": "stdout",
     "output_type": "stream",
     "text": [
      "\n",
      "iniciando iteração 1\n",
      "counter\n",
      "X training\n",
      "X test\n",
      "modelo  vars\n",
      "modelo  vars\n",
      "modelo  vars\n",
      "modelo  vars\n",
      "modelo  vars\n",
      "modelo  mix\n",
      "modelo CNG distancia 1\n",
      "modelo CNG distancia 2\n"
     ]
    },
    {
     "name": "stderr",
     "output_type": "stream",
     "text": [
      "C:\\ProgramData\\Anaconda2\\lib\\site-packages\\ipykernel_launcher.py:6: RuntimeWarning: invalid value encountered in divide\n",
      "  \n",
      "C:\\ProgramData\\Anaconda2\\lib\\site-packages\\ipykernel_launcher.py:13: RuntimeWarning: invalid value encountered in divide\n",
      "  del sys.path[0]\n"
     ]
    },
    {
     "name": "stdout",
     "output_type": "stream",
     "text": [
      "\n",
      "iniciando iteração 2\n",
      "counter\n",
      "X training\n",
      "X test\n",
      "modelo  vars\n",
      "modelo  vars\n",
      "modelo  vars\n",
      "modelo  vars\n",
      "modelo  vars\n",
      "modelo  mix\n",
      "modelo CNG distancia 1\n",
      "modelo CNG distancia 2\n",
      "\n",
      "iniciando iteração 3\n",
      "counter\n",
      "X training\n",
      "X test\n",
      "modelo  vars\n",
      "modelo  vars\n",
      "modelo  vars\n",
      "modelo  vars\n",
      "modelo  vars\n",
      "modelo  mix\n",
      "modelo CNG distancia 1\n",
      "modelo CNG distancia 2\n",
      "\n",
      "iniciando iteração 4\n",
      "counter\n",
      "X training\n",
      "X test\n",
      "modelo  vars\n",
      "modelo  vars\n",
      "modelo  vars\n",
      "modelo  vars\n",
      "modelo  vars\n",
      "modelo  mix\n",
      "modelo CNG distancia 1\n",
      "modelo CNG distancia 2\n",
      "\n",
      "iniciando iteração 5\n",
      "counter\n",
      "X training\n",
      "X test\n",
      "modelo  vars\n",
      "modelo  vars\n",
      "modelo  vars\n",
      "modelo  vars\n",
      "modelo  vars\n",
      "modelo  mix\n",
      "modelo CNG distancia 1\n",
      "modelo CNG distancia 2\n"
     ]
    }
   ],
   "source": [
    "modelsResults = [];\n",
    "\n",
    "i =0;\n",
    "\n",
    "for train_index, test_index in kf.split(XK, Y):\n",
    "    i=i+1;\n",
    "    print(\"\\niniciando iteração %d\" % i);\n",
    "    \n",
    "    XKtrain, XKtest = XK[train_index], XK[test_index];\n",
    "    XUtrain, XUtest = XU[train_index], XU[test_index];\n",
    "    YTrain , YTest  = Y[train_index] , Y[test_index];\n",
    "    \n",
    "    print(\"counter\");\n",
    "    counter.fit(np.append(XKtrain,XUtrain));\n",
    "    XKtrain, XKtest = counter.transform(XKtrain).todense(), counter.transform(XKtest).todense();\n",
    "    XUtrain, XUtest = counter.transform(XUtrain).todense(), counter.transform(XUtest).todense();\n",
    "    \n",
    "    XKtrain, XKtest  = normalizer(XKtrain), normalizer(XKtest);\n",
    "    XUtrain, XUtest  = normalizer(XUtrain), normalizer(XUtest);    \n",
    "    \n",
    "    \n",
    "    print(\"X training\");  \n",
    "    pca = PCA();\n",
    "    pca.fit(np.vstack((XKtrain,XUtrain)));\n",
    "    variance = pca.explained_variance_ratio_.cumsum();\n",
    "    cutoff = len(variance[variance<=0.95]);\n",
    "    if cutoff < 1:\n",
    "        cutoff = int(XKtrain.shape[1] *0.9);\n",
    "\n",
    "    pca = PCA(cutoff);    \n",
    "    pca.fit(np.vstack((XKtrain,XUtrain)));\n",
    "    \n",
    "    cosineABtrain    = cosine(XKtrain,XUtrain);\n",
    "    cosineABpcatrain = pcaSimilarity(pca,XKtrain,XUtrain);    \n",
    "    Statamatostrain  = CNG_Statamatos(XKtrain, XUtrain);\n",
    "    keseljtrain      = CNG_Keselj(XKtrain, XUtrain);\n",
    "    jaccardtrain     = np.diag(pairwise_distances(XKtrain > 0, XUtrain >0, metric='jaccard'));\n",
    "    \n",
    "    Xtrain = np.vstack((cosineABtrain, cosineABpcatrain , Statamatostrain, keseljtrain, jaccardtrain)).T;\n",
    "    \n",
    "    print(\"X test\");\n",
    "    cosineABtest     = cosine(XKtest,XUtest);\n",
    "    cosineABpcatest  = pcaSimilarity(pca,XKtest,XUtest);    \n",
    "    Statamatostest   = CNG_Statamatos(XKtest, XUtest);\n",
    "    keseljtest       = CNG_Keselj(XKtest, XUtest);\n",
    "    jaccardtest      = np.diag(pairwise_distances(XKtest > 0, XUtest >0, metric='jaccard'));\n",
    "    \n",
    "    Xtest = np.vstack((cosineABtest, cosineABpcatest , Statamatostest, keseljtest, jaccardtest)).T;\n",
    "    \n",
    "    modesl = ['cosineAB', 'cosinePCA', 'Stamatatos','keselj','jaccard'];\n",
    "    for j in range(Xtrain.shape[1]):\n",
    "            print(\"modelo  vars\");\n",
    "            pipeline2.fit(Xtrain[:,j].reshape(-1,1),YTrain);\n",
    "            predTrain = pipeline2.predict_proba(Xtrain[:,j].reshape(-1,1));\n",
    "            predTest = pipeline2.predict_proba(Xtest[:,j].reshape(-1,1));\n",
    "\n",
    "            modelsResults.append({        \n",
    "                'kfold'     : i,\n",
    "                'model'     :modesl[j],\n",
    "                'train': roc_auc_score(YTrain, predTrain[:,1]),\n",
    "                'test' : roc_auc_score(YTest, predTest[:,1])\n",
    "            })  ;\n",
    "    \n",
    "    print(\"modelo  mix\");\n",
    "    Xtrain = np.vstack((cosineABtrain, cosineABpcatrain , Statamatostrain)).T;\n",
    "    Xtest  = np.vstack((cosineABtest, cosineABpcatest , Statamatostest)).T;\n",
    "    pipeline.fit(Xtrain,YTrain);\n",
    "    predTrain = pipeline.predict_proba(Xtrain);\n",
    "    predTest = pipeline.predict_proba(Xtest);\n",
    "    \n",
    "    modelsResults.append({        \n",
    "        'kfold'     : i,\n",
    "        'model'     :'mix',\n",
    "        'train': roc_auc_score(YTrain, predTrain[:,1]),\n",
    "        'test' : roc_auc_score(YTest, predTest[:,1])\n",
    "    })  ;\n",
    "    \n",
    "    print(\"modelo CNG distancia 1\");\n",
    "    Xtrain = dist(XKtrain,XUtrain);\n",
    "    Xtest = dist(XKtest,XUtest);\n",
    "    \n",
    "    pipeline.fit(Xtrain,YTrain);\n",
    "    predTrain = pipeline.predict_proba(Xtrain);\n",
    "    predTest = pipeline.predict_proba(Xtest);\n",
    "    \n",
    "    modelsResults.append({        \n",
    "        'kfold'     : i,\n",
    "        'model'     :'distancia 1',\n",
    "        'train': roc_auc_score(YTrain, predTrain[:,1]),\n",
    "        'test' : roc_auc_score(YTest, predTest[:,1])\n",
    "    });\n",
    "    \n",
    "    print(\"modelo CNG distancia 2\");\n",
    "    Xtrain = difchi2(XKtrain,XUtrain);\n",
    "    Xtest = difchi2(XKtest,XUtest);\n",
    "    \n",
    "    pipeline.fit(Xtrain,YTrain);\n",
    "    predTrain = pipeline.predict_proba(Xtrain);\n",
    "    predTest = pipeline.predict_proba(Xtest);\n",
    "    \n",
    "    modelsResults.append({        \n",
    "        'kfold'     : i,\n",
    "        'model'     :'distancia 2',\n",
    "        'train': roc_auc_score(YTrain, predTrain[:,1]),\n",
    "        'test' : roc_auc_score(YTest, predTest[:,1])\n",
    "    });"
   ]
  },
  {
   "cell_type": "code",
   "execution_count": 32,
   "metadata": {},
   "outputs": [
    {
     "data": {
      "text/html": [
       "<div>\n",
       "<style>\n",
       "    .dataframe thead tr:only-child th {\n",
       "        text-align: right;\n",
       "    }\n",
       "\n",
       "    .dataframe thead th {\n",
       "        text-align: left;\n",
       "    }\n",
       "\n",
       "    .dataframe tbody tr th {\n",
       "        vertical-align: top;\n",
       "    }\n",
       "</style>\n",
       "<table border=\"1\" class=\"dataframe\">\n",
       "  <thead>\n",
       "    <tr style=\"text-align: right;\">\n",
       "      <th></th>\n",
       "      <th>kfold</th>\n",
       "      <th>test</th>\n",
       "      <th>train</th>\n",
       "    </tr>\n",
       "    <tr>\n",
       "      <th>model</th>\n",
       "      <th></th>\n",
       "      <th></th>\n",
       "      <th></th>\n",
       "    </tr>\n",
       "  </thead>\n",
       "  <tbody>\n",
       "    <tr>\n",
       "      <th>Stamatatos</th>\n",
       "      <td>3</td>\n",
       "      <td>0.588</td>\n",
       "      <td>0.579250</td>\n",
       "    </tr>\n",
       "    <tr>\n",
       "      <th>cosineAB</th>\n",
       "      <td>3</td>\n",
       "      <td>0.884</td>\n",
       "      <td>0.863875</td>\n",
       "    </tr>\n",
       "    <tr>\n",
       "      <th>cosinePCA</th>\n",
       "      <td>3</td>\n",
       "      <td>0.922</td>\n",
       "      <td>0.896875</td>\n",
       "    </tr>\n",
       "    <tr>\n",
       "      <th>distancia 1</th>\n",
       "      <td>3</td>\n",
       "      <td>0.470</td>\n",
       "      <td>1.000000</td>\n",
       "    </tr>\n",
       "    <tr>\n",
       "      <th>distancia 2</th>\n",
       "      <td>3</td>\n",
       "      <td>0.718</td>\n",
       "      <td>1.000000</td>\n",
       "    </tr>\n",
       "    <tr>\n",
       "      <th>jaccard</th>\n",
       "      <td>3</td>\n",
       "      <td>0.567</td>\n",
       "      <td>0.545250</td>\n",
       "    </tr>\n",
       "    <tr>\n",
       "      <th>keselj</th>\n",
       "      <td>3</td>\n",
       "      <td>0.712</td>\n",
       "      <td>0.661125</td>\n",
       "    </tr>\n",
       "    <tr>\n",
       "      <th>mix</th>\n",
       "      <td>3</td>\n",
       "      <td>0.930</td>\n",
       "      <td>0.925250</td>\n",
       "    </tr>\n",
       "  </tbody>\n",
       "</table>\n",
       "</div>"
      ],
      "text/plain": [
       "             kfold   test     train\n",
       "model                              \n",
       "Stamatatos       3  0.588  0.579250\n",
       "cosineAB         3  0.884  0.863875\n",
       "cosinePCA        3  0.922  0.896875\n",
       "distancia 1      3  0.470  1.000000\n",
       "distancia 2      3  0.718  1.000000\n",
       "jaccard          3  0.567  0.545250\n",
       "keselj           3  0.712  0.661125\n",
       "mix              3  0.930  0.925250"
      ]
     },
     "execution_count": 32,
     "metadata": {},
     "output_type": "execute_result"
    }
   ],
   "source": [
    "df = pd.DataFrame(modelsResults).groupby(by=['model']).mean();\n",
    "df.to_clipboard(excel=True);\n",
    "pd.DataFrame(modelsResults).groupby(by=['model']).mean()"
   ]
  },
  {
   "cell_type": "code",
   "execution_count": 31,
   "metadata": {},
   "outputs": [
    {
     "data": {
      "text/html": [
       "<div>\n",
       "<style>\n",
       "    .dataframe thead tr:only-child th {\n",
       "        text-align: right;\n",
       "    }\n",
       "\n",
       "    .dataframe thead th {\n",
       "        text-align: left;\n",
       "    }\n",
       "\n",
       "    .dataframe tbody tr th {\n",
       "        vertical-align: top;\n",
       "    }\n",
       "</style>\n",
       "<table border=\"1\" class=\"dataframe\">\n",
       "  <thead>\n",
       "    <tr style=\"text-align: right;\">\n",
       "      <th></th>\n",
       "      <th>kfold</th>\n",
       "      <th>model</th>\n",
       "      <th>test</th>\n",
       "      <th>train</th>\n",
       "    </tr>\n",
       "  </thead>\n",
       "  <tbody>\n",
       "    <tr>\n",
       "      <th>0</th>\n",
       "      <td>1</td>\n",
       "      <td>cosineAB</td>\n",
       "      <td>0.790</td>\n",
       "      <td>0.8843750</td>\n",
       "    </tr>\n",
       "    <tr>\n",
       "      <th>1</th>\n",
       "      <td>1</td>\n",
       "      <td>cosinePCA</td>\n",
       "      <td>0.810</td>\n",
       "      <td>0.9312500</td>\n",
       "    </tr>\n",
       "    <tr>\n",
       "      <th>2</th>\n",
       "      <td>1</td>\n",
       "      <td>Stamatatos</td>\n",
       "      <td>0.610</td>\n",
       "      <td>0.5831250</td>\n",
       "    </tr>\n",
       "    <tr>\n",
       "      <th>3</th>\n",
       "      <td>1</td>\n",
       "      <td>keselj</td>\n",
       "      <td>0.680</td>\n",
       "      <td>0.6737500</td>\n",
       "    </tr>\n",
       "    <tr>\n",
       "      <th>4</th>\n",
       "      <td>1</td>\n",
       "      <td>jaccard</td>\n",
       "      <td>0.580</td>\n",
       "      <td>0.5387500</td>\n",
       "    </tr>\n",
       "    <tr>\n",
       "      <th>5</th>\n",
       "      <td>1</td>\n",
       "      <td>mix</td>\n",
       "      <td>0.810</td>\n",
       "      <td>0.9493750</td>\n",
       "    </tr>\n",
       "    <tr>\n",
       "      <th>6</th>\n",
       "      <td>1</td>\n",
       "      <td>distancia 1</td>\n",
       "      <td>0.480</td>\n",
       "      <td>1.0000000</td>\n",
       "    </tr>\n",
       "    <tr>\n",
       "      <th>7</th>\n",
       "      <td>1</td>\n",
       "      <td>distancia 2</td>\n",
       "      <td>0.760</td>\n",
       "      <td>1.0000000</td>\n",
       "    </tr>\n",
       "    <tr>\n",
       "      <th>8</th>\n",
       "      <td>2</td>\n",
       "      <td>cosineAB</td>\n",
       "      <td>0.970</td>\n",
       "      <td>0.8443750</td>\n",
       "    </tr>\n",
       "    <tr>\n",
       "      <th>9</th>\n",
       "      <td>2</td>\n",
       "      <td>cosinePCA</td>\n",
       "      <td>0.860</td>\n",
       "      <td>0.9056250</td>\n",
       "    </tr>\n",
       "    <tr>\n",
       "      <th>10</th>\n",
       "      <td>2</td>\n",
       "      <td>Stamatatos</td>\n",
       "      <td>0.600</td>\n",
       "      <td>0.5693750</td>\n",
       "    </tr>\n",
       "    <tr>\n",
       "      <th>11</th>\n",
       "      <td>2</td>\n",
       "      <td>keselj</td>\n",
       "      <td>0.710</td>\n",
       "      <td>0.6368750</td>\n",
       "    </tr>\n",
       "    <tr>\n",
       "      <th>12</th>\n",
       "      <td>2</td>\n",
       "      <td>jaccard</td>\n",
       "      <td>0.570</td>\n",
       "      <td>0.5340625</td>\n",
       "    </tr>\n",
       "    <tr>\n",
       "      <th>13</th>\n",
       "      <td>2</td>\n",
       "      <td>mix</td>\n",
       "      <td>0.920</td>\n",
       "      <td>0.9175000</td>\n",
       "    </tr>\n",
       "    <tr>\n",
       "      <th>14</th>\n",
       "      <td>2</td>\n",
       "      <td>distancia 1</td>\n",
       "      <td>0.440</td>\n",
       "      <td>1.0000000</td>\n",
       "    </tr>\n",
       "    <tr>\n",
       "      <th>15</th>\n",
       "      <td>2</td>\n",
       "      <td>distancia 2</td>\n",
       "      <td>0.750</td>\n",
       "      <td>1.0000000</td>\n",
       "    </tr>\n",
       "    <tr>\n",
       "      <th>16</th>\n",
       "      <td>3</td>\n",
       "      <td>cosineAB</td>\n",
       "      <td>0.860</td>\n",
       "      <td>0.8712500</td>\n",
       "    </tr>\n",
       "    <tr>\n",
       "      <th>17</th>\n",
       "      <td>3</td>\n",
       "      <td>cosinePCA</td>\n",
       "      <td>0.980</td>\n",
       "      <td>0.8962500</td>\n",
       "    </tr>\n",
       "    <tr>\n",
       "      <th>18</th>\n",
       "      <td>3</td>\n",
       "      <td>Stamatatos</td>\n",
       "      <td>0.620</td>\n",
       "      <td>0.5668750</td>\n",
       "    </tr>\n",
       "    <tr>\n",
       "      <th>19</th>\n",
       "      <td>3</td>\n",
       "      <td>keselj</td>\n",
       "      <td>0.870</td>\n",
       "      <td>0.6325000</td>\n",
       "    </tr>\n",
       "    <tr>\n",
       "      <th>20</th>\n",
       "      <td>3</td>\n",
       "      <td>jaccard</td>\n",
       "      <td>0.725</td>\n",
       "      <td>0.5218750</td>\n",
       "    </tr>\n",
       "    <tr>\n",
       "      <th>21</th>\n",
       "      <td>3</td>\n",
       "      <td>mix</td>\n",
       "      <td>0.930</td>\n",
       "      <td>0.9418750</td>\n",
       "    </tr>\n",
       "    <tr>\n",
       "      <th>22</th>\n",
       "      <td>3</td>\n",
       "      <td>distancia 1</td>\n",
       "      <td>0.610</td>\n",
       "      <td>1.0000000</td>\n",
       "    </tr>\n",
       "    <tr>\n",
       "      <th>23</th>\n",
       "      <td>3</td>\n",
       "      <td>distancia 2</td>\n",
       "      <td>0.810</td>\n",
       "      <td>1.0000000</td>\n",
       "    </tr>\n",
       "    <tr>\n",
       "      <th>24</th>\n",
       "      <td>4</td>\n",
       "      <td>cosineAB</td>\n",
       "      <td>0.930</td>\n",
       "      <td>0.8437500</td>\n",
       "    </tr>\n",
       "    <tr>\n",
       "      <th>25</th>\n",
       "      <td>4</td>\n",
       "      <td>cosinePCA</td>\n",
       "      <td>0.990</td>\n",
       "      <td>0.8837500</td>\n",
       "    </tr>\n",
       "    <tr>\n",
       "      <th>26</th>\n",
       "      <td>4</td>\n",
       "      <td>Stamatatos</td>\n",
       "      <td>0.630</td>\n",
       "      <td>0.5775000</td>\n",
       "    </tr>\n",
       "    <tr>\n",
       "      <th>27</th>\n",
       "      <td>4</td>\n",
       "      <td>keselj</td>\n",
       "      <td>0.800</td>\n",
       "      <td>0.6550000</td>\n",
       "    </tr>\n",
       "    <tr>\n",
       "      <th>28</th>\n",
       "      <td>4</td>\n",
       "      <td>jaccard</td>\n",
       "      <td>0.580</td>\n",
       "      <td>0.5528125</td>\n",
       "    </tr>\n",
       "    <tr>\n",
       "      <th>29</th>\n",
       "      <td>4</td>\n",
       "      <td>mix</td>\n",
       "      <td>0.990</td>\n",
       "      <td>0.9125000</td>\n",
       "    </tr>\n",
       "    <tr>\n",
       "      <th>30</th>\n",
       "      <td>4</td>\n",
       "      <td>distancia 1</td>\n",
       "      <td>0.140</td>\n",
       "      <td>1.0000000</td>\n",
       "    </tr>\n",
       "    <tr>\n",
       "      <th>31</th>\n",
       "      <td>4</td>\n",
       "      <td>distancia 2</td>\n",
       "      <td>0.470</td>\n",
       "      <td>1.0000000</td>\n",
       "    </tr>\n",
       "    <tr>\n",
       "      <th>32</th>\n",
       "      <td>5</td>\n",
       "      <td>cosineAB</td>\n",
       "      <td>0.870</td>\n",
       "      <td>0.8756250</td>\n",
       "    </tr>\n",
       "    <tr>\n",
       "      <th>33</th>\n",
       "      <td>5</td>\n",
       "      <td>cosinePCA</td>\n",
       "      <td>0.970</td>\n",
       "      <td>0.8675000</td>\n",
       "    </tr>\n",
       "    <tr>\n",
       "      <th>34</th>\n",
       "      <td>5</td>\n",
       "      <td>Stamatatos</td>\n",
       "      <td>0.480</td>\n",
       "      <td>0.5993750</td>\n",
       "    </tr>\n",
       "    <tr>\n",
       "      <th>35</th>\n",
       "      <td>5</td>\n",
       "      <td>keselj</td>\n",
       "      <td>0.500</td>\n",
       "      <td>0.7075000</td>\n",
       "    </tr>\n",
       "    <tr>\n",
       "      <th>36</th>\n",
       "      <td>5</td>\n",
       "      <td>jaccard</td>\n",
       "      <td>0.380</td>\n",
       "      <td>0.5787500</td>\n",
       "    </tr>\n",
       "    <tr>\n",
       "      <th>37</th>\n",
       "      <td>5</td>\n",
       "      <td>mix</td>\n",
       "      <td>1.000</td>\n",
       "      <td>0.9050000</td>\n",
       "    </tr>\n",
       "    <tr>\n",
       "      <th>38</th>\n",
       "      <td>5</td>\n",
       "      <td>distancia 1</td>\n",
       "      <td>0.680</td>\n",
       "      <td>1.0000000</td>\n",
       "    </tr>\n",
       "    <tr>\n",
       "      <th>39</th>\n",
       "      <td>5</td>\n",
       "      <td>distancia 2</td>\n",
       "      <td>0.800</td>\n",
       "      <td>1.0000000</td>\n",
       "    </tr>\n",
       "  </tbody>\n",
       "</table>\n",
       "</div>"
      ],
      "text/plain": [
       "    kfold        model   test      train\n",
       "0       1     cosineAB  0.790  0.8843750\n",
       "1       1    cosinePCA  0.810  0.9312500\n",
       "2       1   Stamatatos  0.610  0.5831250\n",
       "3       1       keselj  0.680  0.6737500\n",
       "4       1      jaccard  0.580  0.5387500\n",
       "5       1          mix  0.810  0.9493750\n",
       "6       1  distancia 1  0.480  1.0000000\n",
       "7       1  distancia 2  0.760  1.0000000\n",
       "8       2     cosineAB  0.970  0.8443750\n",
       "9       2    cosinePCA  0.860  0.9056250\n",
       "10      2   Stamatatos  0.600  0.5693750\n",
       "11      2       keselj  0.710  0.6368750\n",
       "12      2      jaccard  0.570  0.5340625\n",
       "13      2          mix  0.920  0.9175000\n",
       "14      2  distancia 1  0.440  1.0000000\n",
       "15      2  distancia 2  0.750  1.0000000\n",
       "16      3     cosineAB  0.860  0.8712500\n",
       "17      3    cosinePCA  0.980  0.8962500\n",
       "18      3   Stamatatos  0.620  0.5668750\n",
       "19      3       keselj  0.870  0.6325000\n",
       "20      3      jaccard  0.725  0.5218750\n",
       "21      3          mix  0.930  0.9418750\n",
       "22      3  distancia 1  0.610  1.0000000\n",
       "23      3  distancia 2  0.810  1.0000000\n",
       "24      4     cosineAB  0.930  0.8437500\n",
       "25      4    cosinePCA  0.990  0.8837500\n",
       "26      4   Stamatatos  0.630  0.5775000\n",
       "27      4       keselj  0.800  0.6550000\n",
       "28      4      jaccard  0.580  0.5528125\n",
       "29      4          mix  0.990  0.9125000\n",
       "30      4  distancia 1  0.140  1.0000000\n",
       "31      4  distancia 2  0.470  1.0000000\n",
       "32      5     cosineAB  0.870  0.8756250\n",
       "33      5    cosinePCA  0.970  0.8675000\n",
       "34      5   Stamatatos  0.480  0.5993750\n",
       "35      5       keselj  0.500  0.7075000\n",
       "36      5      jaccard  0.380  0.5787500\n",
       "37      5          mix  1.000  0.9050000\n",
       "38      5  distancia 1  0.680  1.0000000\n",
       "39      5  distancia 2  0.800  1.0000000"
      ]
     },
     "execution_count": 31,
     "metadata": {},
     "output_type": "execute_result"
    }
   ],
   "source": [
    "df = pd.DataFrame(modelsResults);\n",
    "#df.sort_values(['model','kfold'], inplace=True);\n",
    "\n",
    "df"
   ]
  },
  {
   "cell_type": "code",
   "execution_count": null,
   "metadata": {
    "collapsed": true
   },
   "outputs": [],
   "source": []
  }
 ],
 "metadata": {
  "kernelspec": {
   "display_name": "Python 2",
   "language": "python",
   "name": "python2"
  },
  "language_info": {
   "codemirror_mode": {
    "name": "ipython",
    "version": 2
   },
   "file_extension": ".py",
   "mimetype": "text/x-python",
   "name": "python",
   "nbconvert_exporter": "python",
   "pygments_lexer": "ipython2",
   "version": "2.7.14"
  }
 },
 "nbformat": 4,
 "nbformat_minor": 2
}
